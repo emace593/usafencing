{
 "cells": [
  {
   "cell_type": "code",
   "execution_count": 1,
   "metadata": {},
   "outputs": [],
   "source": [
    "import pandas as pd\n",
    "from eventclass import *"
   ]
  },
  {
   "cell_type": "code",
   "execution_count": 2,
   "metadata": {},
   "outputs": [],
   "source": [
    "df = pd.read_csv('ROCResults.csv')\n",
    "df['gw'] = df['gender']+df['weapon']\n",
    "season_ratings = {x:x[0] for x in df.classification.unique()}\n",
    "df['classification_season'] = df['classification'].map(season_ratings)"
   ]
  },
  {
   "cell_type": "code",
   "execution_count": 3,
   "metadata": {},
   "outputs": [],
   "source": [
    "top_8 = ['1','2','3T']+[str(x) for x in range(4,9)]\n",
    "top_12 = top_8 + [str(x) for x in range(9,13)]\n",
    "test_tourney = df[df.tournament=='TFC FallFest DIV2/VET ROC']"
   ]
  },
  {
   "cell_type": "code",
   "execution_count": 4,
   "metadata": {},
   "outputs": [],
   "source": [
    "test_event = test_tourney[test_tourney.gw=='MensFoil']"
   ]
  },
  {
   "cell_type": "code",
   "execution_count": 5,
   "metadata": {},
   "outputs": [
    {
     "name": "stdout",
     "output_type": "stream",
     "text": [
      "{'U': 34, 'D': 8, 'E': 4, 'C': 1}\n"
     ]
    }
   ],
   "source": [
    "num_participants = len(test_event.index)\n",
    "starting_class_counts = test_event.classification_season.value_counts().to_dict()\n",
    "print(starting_class_counts)"
   ]
  },
  {
   "cell_type": "code",
   "execution_count": 6,
   "metadata": {},
   "outputs": [
    {
     "name": "stdout",
     "output_type": "stream",
     "text": [
      "False\n"
     ]
    }
   ],
   "source": [
    "print(has_minimum('A1',test_event.classification_season.to_list()))"
   ]
  },
  {
   "cell_type": "code",
   "execution_count": 7,
   "metadata": {},
   "outputs": [
    {
     "data": {
      "text/plain": [
       "'C2'"
      ]
     },
     "execution_count": 7,
     "metadata": {},
     "output_type": "execute_result"
    }
   ],
   "source": [
    "get_event_rating(test_event.classification_season.to_list())"
   ]
  },
  {
   "cell_type": "code",
   "execution_count": 8,
   "metadata": {},
   "outputs": [
    {
     "name": "stdout",
     "output_type": "stream",
     "text": [
      "MensFoil {'U': 34, 'D': 8, 'E': 4, 'C': 1} C2\n",
      "WomensFoil {'U': 16, 'E': 9, 'C': 7, 'D': 6} C2\n",
      "MensEpee {'U': 33, 'C': 9, 'E': 7, 'D': 6} C2\n",
      "WomensEpee {'U': 24, 'E': 6, 'D': 3} D1\n",
      "MensSaber {'U': 15, 'E': 7, 'D': 1} D1\n",
      "WomensSaber {'U': 11, 'E': 6, 'C': 2, 'D': 1} D1\n"
     ]
    }
   ],
   "source": [
    "events = test_tourney.gw.unique()\n",
    "for event in events:\n",
    "    vc = test_tourney[test_tourney.gw==event].classification_season.value_counts().to_dict()\n",
    "    print(event,vc,get_event_rating(test_tourney[test_tourney.gw==event].classification_season.to_list()))"
   ]
  },
  {
   "cell_type": "code",
   "execution_count": null,
   "metadata": {},
   "outputs": [],
   "source": []
  }
 ],
 "metadata": {
  "kernelspec": {
   "display_name": "Python 3.10.6 ('.venv': venv)",
   "language": "python",
   "name": "python3"
  },
  "language_info": {
   "codemirror_mode": {
    "name": "ipython",
    "version": 3
   },
   "file_extension": ".py",
   "mimetype": "text/x-python",
   "name": "python",
   "nbconvert_exporter": "python",
   "pygments_lexer": "ipython3",
   "version": "3.10.6"
  },
  "orig_nbformat": 4,
  "vscode": {
   "interpreter": {
    "hash": "431ec7142d5d2a5cf15ba259ff345c0f43760979e0157fbf86a79e2446afd992"
   }
  }
 },
 "nbformat": 4,
 "nbformat_minor": 2
}
